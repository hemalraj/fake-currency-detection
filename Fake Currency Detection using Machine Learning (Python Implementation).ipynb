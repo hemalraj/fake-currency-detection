{
 "cells": [
  {
   "cell_type": "code",
   "execution_count": 1,
   "id": "acadbc74",
   "metadata": {},
   "outputs": [],
   "source": [
    "import pandas as pd\n",
    "import numpy as np\n",
    "import matplotlib.pyplot as plt\n",
    "import seaborn as sns\n",
    "from sklearn.model_selection import train_test_split\n",
    "from sklearn.preprocessing import StandardScaler\n",
    "from sklearn.linear_model import LogisticRegression\n",
    "from sklearn.metrics import confusion_matrix\n",
    "import warnings\n",
    "warnings.filterwarnings('ignore')"
   ]
  },
  {
   "cell_type": "code",
   "execution_count": 2,
   "id": "e9f9b8fe",
   "metadata": {},
   "outputs": [],
   "source": [
    "data=pd.read_csv('bank_notes.csv',header=None)"
   ]
  },
  {
   "cell_type": "code",
   "execution_count": 3,
   "id": "a3b22442",
   "metadata": {},
   "outputs": [
    {
     "data": {
      "text/html": [
       "<div>\n",
       "<style scoped>\n",
       "    .dataframe tbody tr th:only-of-type {\n",
       "        vertical-align: middle;\n",
       "    }\n",
       "\n",
       "    .dataframe tbody tr th {\n",
       "        vertical-align: top;\n",
       "    }\n",
       "\n",
       "    .dataframe thead th {\n",
       "        text-align: right;\n",
       "    }\n",
       "</style>\n",
       "<table border=\"1\" class=\"dataframe\">\n",
       "  <thead>\n",
       "    <tr style=\"text-align: right;\">\n",
       "      <th></th>\n",
       "      <th>0</th>\n",
       "      <th>1</th>\n",
       "      <th>2</th>\n",
       "      <th>3</th>\n",
       "      <th>4</th>\n",
       "    </tr>\n",
       "  </thead>\n",
       "  <tbody>\n",
       "    <tr>\n",
       "      <th>0</th>\n",
       "      <td>variance</td>\n",
       "      <td>skewness</td>\n",
       "      <td>curtosis</td>\n",
       "      <td>entropy</td>\n",
       "      <td>Target</td>\n",
       "    </tr>\n",
       "    <tr>\n",
       "      <th>1</th>\n",
       "      <td>3.6216</td>\n",
       "      <td>8.6661</td>\n",
       "      <td>-2.8073</td>\n",
       "      <td>-0.44699</td>\n",
       "      <td>0</td>\n",
       "    </tr>\n",
       "    <tr>\n",
       "      <th>2</th>\n",
       "      <td>4.5459</td>\n",
       "      <td>8.1674</td>\n",
       "      <td>-2.4586</td>\n",
       "      <td>-1.4621</td>\n",
       "      <td>0</td>\n",
       "    </tr>\n",
       "    <tr>\n",
       "      <th>3</th>\n",
       "      <td>3.866</td>\n",
       "      <td>-2.6383</td>\n",
       "      <td>1.9242</td>\n",
       "      <td>0.10645</td>\n",
       "      <td>0</td>\n",
       "    </tr>\n",
       "    <tr>\n",
       "      <th>4</th>\n",
       "      <td>3.4566</td>\n",
       "      <td>9.5228</td>\n",
       "      <td>-4.0112</td>\n",
       "      <td>-3.5944</td>\n",
       "      <td>0</td>\n",
       "    </tr>\n",
       "  </tbody>\n",
       "</table>\n",
       "</div>"
      ],
      "text/plain": [
       "          0         1         2         3       4\n",
       "0  variance  skewness  curtosis   entropy  Target\n",
       "1    3.6216    8.6661   -2.8073  -0.44699       0\n",
       "2    4.5459    8.1674   -2.4586   -1.4621       0\n",
       "3     3.866   -2.6383    1.9242   0.10645       0\n",
       "4    3.4566    9.5228   -4.0112   -3.5944       0"
      ]
     },
     "execution_count": 3,
     "metadata": {},
     "output_type": "execute_result"
    }
   ],
   "source": [
    "data.head()"
   ]
  },
  {
   "cell_type": "code",
   "execution_count": 4,
   "id": "11c70764",
   "metadata": {},
   "outputs": [
    {
     "data": {
      "text/html": [
       "<div>\n",
       "<style scoped>\n",
       "    .dataframe tbody tr th:only-of-type {\n",
       "        vertical-align: middle;\n",
       "    }\n",
       "\n",
       "    .dataframe tbody tr th {\n",
       "        vertical-align: top;\n",
       "    }\n",
       "\n",
       "    .dataframe thead th {\n",
       "        text-align: right;\n",
       "    }\n",
       "</style>\n",
       "<table border=\"1\" class=\"dataframe\">\n",
       "  <thead>\n",
       "    <tr style=\"text-align: right;\">\n",
       "      <th></th>\n",
       "      <th>0</th>\n",
       "      <th>1</th>\n",
       "      <th>2</th>\n",
       "      <th>3</th>\n",
       "      <th>4</th>\n",
       "    </tr>\n",
       "  </thead>\n",
       "  <tbody>\n",
       "    <tr>\n",
       "      <th>1368</th>\n",
       "      <td>0.40614</td>\n",
       "      <td>1.3492</td>\n",
       "      <td>-1.4501</td>\n",
       "      <td>-0.55949</td>\n",
       "      <td>1</td>\n",
       "    </tr>\n",
       "    <tr>\n",
       "      <th>1369</th>\n",
       "      <td>-1.3887</td>\n",
       "      <td>-4.8773</td>\n",
       "      <td>6.4774</td>\n",
       "      <td>0.34179</td>\n",
       "      <td>1</td>\n",
       "    </tr>\n",
       "    <tr>\n",
       "      <th>1370</th>\n",
       "      <td>-3.7503</td>\n",
       "      <td>-13.4586</td>\n",
       "      <td>17.5932</td>\n",
       "      <td>-2.7771</td>\n",
       "      <td>1</td>\n",
       "    </tr>\n",
       "    <tr>\n",
       "      <th>1371</th>\n",
       "      <td>-3.5637</td>\n",
       "      <td>-8.3827</td>\n",
       "      <td>12.393</td>\n",
       "      <td>-1.2823</td>\n",
       "      <td>1</td>\n",
       "    </tr>\n",
       "    <tr>\n",
       "      <th>1372</th>\n",
       "      <td>-2.5419</td>\n",
       "      <td>-0.65804</td>\n",
       "      <td>2.6842</td>\n",
       "      <td>1.1952</td>\n",
       "      <td>1</td>\n",
       "    </tr>\n",
       "  </tbody>\n",
       "</table>\n",
       "</div>"
      ],
      "text/plain": [
       "            0         1        2         3  4\n",
       "1368  0.40614    1.3492  -1.4501  -0.55949  1\n",
       "1369  -1.3887   -4.8773   6.4774   0.34179  1\n",
       "1370  -3.7503  -13.4586  17.5932   -2.7771  1\n",
       "1371  -3.5637   -8.3827   12.393   -1.2823  1\n",
       "1372  -2.5419  -0.65804   2.6842    1.1952  1"
      ]
     },
     "execution_count": 4,
     "metadata": {},
     "output_type": "execute_result"
    }
   ],
   "source": [
    "data.tail()"
   ]
  },
  {
   "cell_type": "code",
   "execution_count": 5,
   "id": "aafe5440",
   "metadata": {},
   "outputs": [
    {
     "data": {
      "text/plain": [
       "(1373, 5)"
      ]
     },
     "execution_count": 5,
     "metadata": {},
     "output_type": "execute_result"
    }
   ],
   "source": [
    "data.shape"
   ]
  },
  {
   "cell_type": "code",
   "execution_count": 6,
   "id": "20ff9341",
   "metadata": {},
   "outputs": [
    {
     "name": "stdout",
     "output_type": "stream",
     "text": [
      "<class 'pandas.core.frame.DataFrame'>\n",
      "RangeIndex: 1373 entries, 0 to 1372\n",
      "Data columns (total 5 columns):\n",
      " #   Column  Non-Null Count  Dtype \n",
      "---  ------  --------------  ----- \n",
      " 0   0       1373 non-null   object\n",
      " 1   1       1373 non-null   object\n",
      " 2   2       1373 non-null   object\n",
      " 3   3       1373 non-null   object\n",
      " 4   4       1373 non-null   object\n",
      "dtypes: object(5)\n",
      "memory usage: 53.8+ KB\n"
     ]
    }
   ],
   "source": [
    "data.info()"
   ]
  },
  {
   "cell_type": "code",
   "execution_count": 7,
   "id": "b2d6841d",
   "metadata": {},
   "outputs": [
    {
     "data": {
      "text/html": [
       "<div>\n",
       "<style scoped>\n",
       "    .dataframe tbody tr th:only-of-type {\n",
       "        vertical-align: middle;\n",
       "    }\n",
       "\n",
       "    .dataframe tbody tr th {\n",
       "        vertical-align: top;\n",
       "    }\n",
       "\n",
       "    .dataframe thead th {\n",
       "        text-align: right;\n",
       "    }\n",
       "</style>\n",
       "<table border=\"1\" class=\"dataframe\">\n",
       "  <thead>\n",
       "    <tr style=\"text-align: right;\">\n",
       "      <th></th>\n",
       "      <th>0</th>\n",
       "      <th>1</th>\n",
       "      <th>2</th>\n",
       "      <th>3</th>\n",
       "      <th>4</th>\n",
       "    </tr>\n",
       "  </thead>\n",
       "  <tbody>\n",
       "    <tr>\n",
       "      <th>count</th>\n",
       "      <td>1373</td>\n",
       "      <td>1373</td>\n",
       "      <td>1373</td>\n",
       "      <td>1373</td>\n",
       "      <td>1373</td>\n",
       "    </tr>\n",
       "    <tr>\n",
       "      <th>unique</th>\n",
       "      <td>1339</td>\n",
       "      <td>1257</td>\n",
       "      <td>1271</td>\n",
       "      <td>1157</td>\n",
       "      <td>3</td>\n",
       "    </tr>\n",
       "    <tr>\n",
       "      <th>top</th>\n",
       "      <td>0.5706</td>\n",
       "      <td>-4.4552</td>\n",
       "      <td>4.5718</td>\n",
       "      <td>-0.9888</td>\n",
       "      <td>0</td>\n",
       "    </tr>\n",
       "    <tr>\n",
       "      <th>freq</th>\n",
       "      <td>5</td>\n",
       "      <td>6</td>\n",
       "      <td>5</td>\n",
       "      <td>5</td>\n",
       "      <td>762</td>\n",
       "    </tr>\n",
       "  </tbody>\n",
       "</table>\n",
       "</div>"
      ],
      "text/plain": [
       "             0        1       2        3     4\n",
       "count     1373     1373    1373     1373  1373\n",
       "unique    1339     1257    1271     1157     3\n",
       "top     0.5706  -4.4552  4.5718  -0.9888     0\n",
       "freq         5        6       5        5   762"
      ]
     },
     "execution_count": 7,
     "metadata": {},
     "output_type": "execute_result"
    }
   ],
   "source": [
    "data.describe()"
   ]
  },
  {
   "cell_type": "code",
   "execution_count": 8,
   "id": "1077ec5d",
   "metadata": {},
   "outputs": [],
   "source": [
    "data.columns = ['var','skew','curt','entr','auth']"
   ]
  },
  {
   "cell_type": "code",
   "execution_count": 9,
   "id": "251af8c1",
   "metadata": {},
   "outputs": [
    {
     "name": "stdout",
     "output_type": "stream",
     "text": [
      "        var      skew      curt      entr    auth\n",
      "0  variance  skewness  curtosis   entropy  Target\n",
      "1    3.6216    8.6661   -2.8073  -0.44699       0\n",
      "2    4.5459    8.1674   -2.4586   -1.4621       0\n",
      "3     3.866   -2.6383    1.9242   0.10645       0\n",
      "4    3.4566    9.5228   -4.0112   -3.5944       0\n"
     ]
    }
   ],
   "source": [
    "print(data.head())"
   ]
  },
  {
   "cell_type": "code",
   "execution_count": 10,
   "id": "8b91c2a2",
   "metadata": {},
   "outputs": [],
   "source": [
    "data = data.iloc[1: , :]"
   ]
  },
  {
   "cell_type": "code",
   "execution_count": 11,
   "id": "8989f3ee",
   "metadata": {},
   "outputs": [
    {
     "data": {
      "text/plain": [
       "var     0\n",
       "skew    0\n",
       "curt    0\n",
       "entr    0\n",
       "auth    0\n",
       "dtype: int64"
      ]
     },
     "execution_count": 11,
     "metadata": {},
     "output_type": "execute_result"
    }
   ],
   "source": [
    "data.isnull().sum()"
   ]
  },
  {
   "cell_type": "code",
   "execution_count": 12,
   "id": "2d67d587",
   "metadata": {},
   "outputs": [
    {
     "name": "stdout",
     "output_type": "stream",
     "text": [
      "<class 'pandas.core.frame.DataFrame'>\n",
      "RangeIndex: 1372 entries, 1 to 1372\n",
      "Data columns (total 5 columns):\n",
      " #   Column  Non-Null Count  Dtype \n",
      "---  ------  --------------  ----- \n",
      " 0   var     1372 non-null   object\n",
      " 1   skew    1372 non-null   object\n",
      " 2   curt    1372 non-null   object\n",
      " 3   entr    1372 non-null   object\n",
      " 4   auth    1372 non-null   object\n",
      "dtypes: object(5)\n",
      "memory usage: 53.7+ KB\n",
      "None\n"
     ]
    }
   ],
   "source": [
    "print(data.info())"
   ]
  },
  {
   "cell_type": "code",
   "execution_count": 15,
   "id": "4ae72deb",
   "metadata": {},
   "outputs": [
    {
     "data": {
      "image/png": "[encoded data removed]",
      "text/plain": [
       "<Figure size 576x432 with 1 Axes>"
      ]
     },
     "metadata": {
      "needs_background": "light"
     },
     "output_type": "display_data"
    }
   ],
   "source": [
    "plt.figure(figsize=(8,6))\n",
    "plt.title('Distribution Of Target', size=18)\n",
    "sns.countplot(x=data['auth'])\n",
    "target_count  = data.auth.value_counts()\n",
    "plt.annotate(s=target_count[0],xy=(-0.04,10+target_count[0]),size=14)\n",
    "plt.annotate(s=target_count[1],xy=(0.96,10+target_count[1]),size=14)\n",
    "plt.ylim(0,900)\n",
    "plt.show()\n",
    " \n",
    " \n"
   ]
  },
  {
   "cell_type": "code",
   "execution_count": 16,
   "id": "bb43f0ae",
   "metadata": {},
   "outputs": [
    {
     "name": "stdout",
     "output_type": "stream",
     "text": [
      "0    610\n",
      "1    610\n",
      "Name: auth, dtype: int64\n"
     ]
    }
   ],
   "source": [
    "nb_to_delete = target_count[0] - target_count[1]\n",
    "data = data.sample(frac=1,random_state=42).sort_values(by='auth')\n",
    "data=data[nb_to_delete:]\n",
    "print(data['auth'].value_counts())"
   ]
  },
  {
   "cell_type": "code",
   "execution_count": 19,
   "id": "6402559e",
   "metadata": {},
   "outputs": [],
   "source": [
    "x = data.loc[:,data.columns != 'auth']\n",
    "y = data.loc[:,data.columns == 'auth']\n",
    "x_train, x_test, y_train, y_test = train_test_split(x,y,test_size=0.3,random_state=42)\n"
   ]
  },
  {
   "cell_type": "code",
   "execution_count": 20,
   "id": "0ae29dc4",
   "metadata": {},
   "outputs": [],
   "source": [
    "scalar = StandardScaler()\n",
    "scalar.fit(x_train)\n",
    "x_train = scalar.transform(x_train)\n",
    "x_test = scalar.transform(x_test)\n",
    "\n"
   ]
  },
  {
   "cell_type": "code",
   "execution_count": 21,
   "id": "7659ea0d",
   "metadata": {},
   "outputs": [
    {
     "data": {
      "text/plain": [
       "LogisticRegression(random_state=42)"
      ]
     },
     "execution_count": 21,
     "metadata": {},
     "output_type": "execute_result"
    }
   ],
   "source": [
    "clf = LogisticRegression(solver='lbfgs',random_state=42,multi_class='auto')\n",
    "clf.fit(x_train,y_train.values.ravel())"
   ]
  },
  {
   "cell_type": "code",
   "execution_count": 23,
   "id": "2c580ce5",
   "metadata": {},
   "outputs": [
    {
     "name": "stdout",
     "output_type": "stream",
     "text": [
      "              Pred.Negative  Pred.Positive\n",
      "Act.Negative            187              6\n",
      "Act.Positive              0            173\n",
      "\n",
      " Accuracy=98.36%\n"
     ]
    }
   ],
   "source": [
    "y_pred = np.array(clf.predict(x_test))\n",
    "conf_mat = pd.DataFrame(confusion_matrix(y_test,y_pred),columns=['Pred.Negative','Pred.Positive'],index=['Act.Negative','Act.Positive'])\n",
    "tn, fp, fn, tp = confusion_matrix(y_test,y_pred).ravel()\n",
    "accuracy = round((tn+tp)/(tn+fp+fn+tp),4)\n",
    "print(conf_mat)\n",
    "print(f'\\n Accuracy={round(100*accuracy, 2)}%')"
   ]
  },
  {
   "cell_type": "code",
   "execution_count": null,
   "id": "dab0e069",
   "metadata": {},
   "outputs": [],
   "source": []
  }
 ],
 "metadata": {
  "kernelspec": {
   "display_name": "Python 3 (ipykernel)",
   "language": "python",
   "name": "python3"
  },
  "language_info": {
   "codemirror_mode": {
    "name": "ipython",
    "version": 3
   },
   "file_extension": ".py",
   "mimetype": "text/x-python",
   "name": "python",
   "nbconvert_exporter": "python",
   "pygments_lexer": "ipython3",
   "version": "3.9.7"
  }
 },
 "nbformat": 4,
 "nbformat_minor": 5
}
